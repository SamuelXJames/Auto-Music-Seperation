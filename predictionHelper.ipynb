{
  "nbformat": 4,
  "nbformat_minor": 0,
  "metadata": {
    "colab": {
      "name": "predictionHelper.ipynb",
      "provenance": [],
      "authorship_tag": "ABX9TyOPL9NCA1+kNOmpito3aQsD",
      "include_colab_link": true
    },
    "kernelspec": {
      "name": "python3",
      "display_name": "Python 3"
    },
    "language_info": {
      "name": "python"
    }
  },
  "cells": [
    {
      "cell_type": "markdown",
      "metadata": {
        "id": "view-in-github",
        "colab_type": "text"
      },
      "source": [
        "<a href=\"https://colab.research.google.com/github/SamuelXJames/Auto-Music-Seperation/blob/main/predictionHelper.ipynb\" target=\"_parent\"><img src=\"https://colab.research.google.com/assets/colab-badge.svg\" alt=\"Open In Colab\"/></a>"
      ]
    },
    {
      "cell_type": "markdown",
      "metadata": {
        "id": "xwJ37onsEi04"
      },
      "source": [
        "# Prediction Helper\n",
        "Walkthrough for making predictions using the neural network"
      ]
    },
    {
      "cell_type": "markdown",
      "metadata": {
        "id": "eRGxVCC6EzBq"
      },
      "source": [
        "## Connect To Storage\n",
        "Connect to which ever cloud storage platform containts the input data"
      ]
    },
    {
      "cell_type": "markdown",
      "metadata": {
        "id": "vWeHOyqoptAu"
      },
      "source": [
        "#### Google Cloud Storage (GCS)\n",
        "\n"
      ]
    },
    {
      "cell_type": "code",
      "metadata": {
        "id": "BSQ0NVhBXeAB"
      },
      "source": [
        "## IGNORE if storing kerenels locally or on Google Drive\n",
        "#Authenticare access to cloud storage\n",
        "!gcloud auth login\n",
        "\n",
        "#Set current GCS project\n",
        "!gcloud config set project superres000"
      ],
      "execution_count": null,
      "outputs": []
    },
    {
      "cell_type": "code",
      "metadata": {
        "id": "edUg3IELklL2"
      },
      "source": [
        "## IGNORE if storing kerenels locally or on Google Drive\n",
        "#Setup google cloud sdk (seems to be necessary but could be redudant)\n",
        "from google.colab import auth\n",
        "auth.authenticate_user()"
      ],
      "execution_count": null,
      "outputs": []
    },
    {
      "cell_type": "markdown",
      "metadata": {
        "id": "PldRjyxZ21C1"
      },
      "source": [
        "#### Google Drive"
      ]
    },
    {
      "cell_type": "code",
      "metadata": {
        "id": "uqbtQiYU2_Nj"
      },
      "source": [
        "from google.colab import drive\n",
        "drive.mount('/content/drive')"
      ],
      "execution_count": null,
      "outputs": []
    },
    {
      "cell_type": "markdown",
      "metadata": {
        "id": "Eh6r5xreLSQe"
      },
      "source": [
        "## Download Required Packages"
      ]
    },
    {
      "cell_type": "code",
      "metadata": {
        "id": "ddXsSVNxLVPk"
      },
      "source": [
        "!pip install -r \"/content/Auto-Music-Seperation/requirements.txt\""
      ],
      "execution_count": null,
      "outputs": []
    },
    {
      "cell_type": "markdown",
      "metadata": {
        "id": "ZW10aYESFPz-"
      },
      "source": [
        "## Intialize Model\n",
        "- **model:** 'cunet' or 'edsr'"
      ]
    },
    {
      "cell_type": "code",
      "metadata": {
        "id": "-2Rwfzh6YT1e"
      },
      "source": [
        "from training.trainer import Trainer\n",
        "trainer = Trainer(model = 'cunet', \n",
        "                  train = False"
      ],
      "execution_count": null,
      "outputs": []
    },
    {
      "cell_type": "markdown",
      "metadata": {
        "id": "iv1oA3uoF3QP"
      },
      "source": [
        "## Load Weights and Make a Prediction\n",
        "- **weights_path** : Path to the saved weights\n",
        "- **data_path** : Path to either folder containg the images or the image itself\n",
        "- **save_output** : Save the output images or not\n",
        "- **save_path** : Folder to save output"
      ]
    },
    {
      "cell_type": "code",
      "metadata": {
        "id": "Rlhi-cuhF6a7"
      },
      "source": [
        "prediction = trainer.predict(weights_path = '',\n",
        "                             data_path = '',\n",
        "                             save_output = True,\n",
        "                             save_path = '')"
      ],
      "execution_count": null,
      "outputs": []
    }
  ]
}