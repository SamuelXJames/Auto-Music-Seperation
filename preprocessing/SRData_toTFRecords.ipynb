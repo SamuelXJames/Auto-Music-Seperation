{
  "nbformat": 4,
  "nbformat_minor": 0,
  "metadata": {
    "colab": {
      "name": "SRData_toTFRecords.ipynb",
      "provenance": [],
      "collapsed_sections": [],
      "authorship_tag": "ABX9TyNTvndds5F4scUYtWorGIjd",
      "include_colab_link": true
    },
    "kernelspec": {
      "display_name": "Python 3",
      "name": "python3"
    }
  },
  "cells": [
    {
      "cell_type": "markdown",
      "metadata": {
        "id": "view-in-github",
        "colab_type": "text"
      },
      "source": [
        "<a href=\"https://colab.research.google.com/github/SamuelXJames/Auto-Music-Seperation/blob/main/preprocessing/SRData_toTFRecords.ipynb\" target=\"_parent\"><img src=\"https://colab.research.google.com/assets/colab-badge.svg\" alt=\"Open In Colab\"/></a>"
      ]
    },
    {
      "cell_type": "markdown",
      "metadata": {
        "id": "UIMUd7SVo65a"
      },
      "source": [
        "# Convert Images Into TFRecords\n",
        "\n",
        "This code converts spectrograms (or scalograms) stored as PNG images on Google Cloud Storage to TFRecords (as byte data). The dataset/TFRecords are **structured specfically for Multi-Output Models w/ Scaling**"
      ]
    },
    {
      "cell_type": "markdown",
      "metadata": {
        "id": "vWeHOyqoptAu"
      },
      "source": [
        "## Connect to Google Cloud Storage (GCS)\n",
        "\n",
        "The images are stored on a GCS bucket. Alternatively, they can be stored locally or on Google Drive \n",
        "\n"
      ]
    },
    {
      "cell_type": "code",
      "metadata": {
        "id": "BSQ0NVhBXeAB"
      },
      "source": [
        "## IGNORE if storing kerenels locally or on Google Drive\n",
        "#Authenticare access to cloud storage\n",
        "!gcloud auth login\n",
        "\n",
        "#Set current GCS project\n",
        "!gcloud config set project superres000"
      ],
      "execution_count": null,
      "outputs": []
    },
    {
      "cell_type": "code",
      "metadata": {
        "id": "6TBbS4oiYkbg"
      },
      "source": [
        "## IGNORE if storing kerenels locally or on Google Drive\n",
        "#Setup google cloud sdk (seems to be necessary but could be redudant)\n",
        "from google.colab import auth\n",
        "auth.authenticate_user()"
      ],
      "execution_count": 4,
      "outputs": []
    },
    {
      "cell_type": "markdown",
      "metadata": {
        "id": "8uoZ4jMqzz4s"
      },
      "source": [
        "## Import Libraries "
      ]
    },
    {
      "cell_type": "code",
      "metadata": {
        "id": "31YlWsRjzq1L"
      },
      "source": [
        "import tensorflow as tf\n",
        "import tensorflow_datasets as tfds\n",
        "from matplotlib import pyplot as plt\n",
        "import numpy as np\n",
        "import os, sys, math, glob, ntpath,time\n",
        "from PIL import Image\n",
        "from datetime import timedelta\n",
        "from tqdm import tqdm\n"
      ],
      "execution_count": 5,
      "outputs": []
    },
    {
      "cell_type": "markdown",
      "metadata": {
        "id": "DJnjPdl8zMz3"
      },
      "source": [
        "## Collect Mixes and Stems\n",
        "\n",
        "Collects the filenames for all the stems and mixes"
      ]
    },
    {
      "cell_type": "code",
      "metadata": {
        "colab": {
          "base_uri": "https://localhost:8080/"
        },
        "id": "R_pgv5VRz-8_",
        "outputId": "ff00ddf7-e773-4619-ac6d-541ac5315bec"
      },
      "source": [
        "# Directories\n",
        "MIXDOWN_DIR = 'gs://super_res_train/Bass/'\n",
        "BASS_DIR = 'gs://super_res_train/Bass/'\n",
        "DRUM_DIR = 'gs://super_res_train/Bass/'\n",
        "VOCAL_DIR = 'gs://super_res_train/Bass/'\n",
        "OTHER_DIR = 'gs://super_res_train/Bass/'\n",
        "\n",
        "img_format = '*.png'\n",
        "\n",
        "# Get Filenames and pair HR and LR files\n",
        "Mixdown_files = tf.io.gfile.glob(MIXDOWN_DIR + img_format)\n",
        "Bass_files = tf.io.gfile.glob(BASS_DIR + img_format)\n",
        "Drum_files = tf.io.gfile.glob(DRUM_DIR + img_format)\n",
        "Vocal_files = tf.io.gfile.glob(VOCAL_DIR + img_format)\n",
        "Other_files = tf.io.gfile.glob(OTHER_DIR + img_format)\n",
        "\n",
        "\n",
        "# Number of Images\n",
        "num_Mixdown = len(Mixdown_files) \n",
        "num_Bass = len(Bass_files)\n",
        "num_Drum = len(Drum_files) \n",
        "num_Vocal = len(Vocal_files)\n",
        "num_Other = len(Other_files) \n",
        "\n",
        "print('Number of Mixdown Images {}'.format(num_Mixdown))\n",
        "print('Number of Bass Images {}'.format(num_Bass))\n",
        "print('Number of Drum Images {}'.format(num_Drum))\n",
        "print('Number of Vocal Images {}'.format(num_Vocal))\n",
        "print('Number of Other Images {}'.format(num_Other))\n"
      ],
      "execution_count": 21,
      "outputs": [
        {
          "output_type": "stream",
          "text": [
            "Number of Mixdown Images 2\n",
            "Number of Bass Images 2\n",
            "Number of Drum Images 2\n",
            "Number of Vocal Images 2\n",
            "Number of Other Images 2\n"
          ],
          "name": "stdout"
        }
      ]
    },
    {
      "cell_type": "markdown",
      "metadata": {
        "id": "McaCxe2YHT00"
      },
      "source": [
        "## Check Image Size\n",
        "Confirms that each image in a dataset entry (ie. each steam and mix) have the same shape.\n",
        "\n"
      ]
    },
    {
      "cell_type": "code",
      "metadata": {
        "colab": {
          "base_uri": "https://localhost:8080/"
        },
        "id": "Vy1bzu7yHdq3",
        "outputId": "c3b51819-210e-46a0-a1d1-0f3f7540e783"
      },
      "source": [
        "def check_img_shapes(Mixdown_files,Bass_files,Drum_files,Vocal_files,Other_files):\n",
        "  valid = True\n",
        "  for (Mixdown_file,Bass_file,Drums_file,Vocals_file,Other_file) in zip(Mixdown_files,Bass_files,Drum_files,Vocal_files,Other_files):\n",
        "    Mixdown_shape = np.shape(tf.image.decode_png(tf.io.read_file(Mixdown_file)))\n",
        "    Bass_shape = np.shape(tf.image.decode_png(tf.io.read_file(Bass_file)))\n",
        "    Drums_shape = np.shape(tf.image.decode_png(tf.io.read_file(Drums_file)))\n",
        "    Vocals_shape = np.shape(tf.image.decode_png(tf.io.read_file(Vocals_file)))\n",
        "    Other_shape = np.shape(tf.image.decode_png(tf.io.read_file(Other_file)))\n",
        "    print('Mixdown \\t Bass \\t Drums \\t Vocals \\t Others')\n",
        "    if not(Mixdown_shape == Bass_shape == Drums_shape == Vocals_shape == Other_shape):\n",
        "      _,Mixdown_name = ntpath.split(Mixdown_file)\n",
        "      _,Bass_name = ntpath.split(Bass_file)\n",
        "      _,Drums_name = ntpath.split(Drums_file)\n",
        "      _,Vocals_name = ntpath.split(Vocals_file)\n",
        "      _,Other_name = ntpath.split(Other_file)\n",
        "      print('{}: {}, {}: {}, {}: {}, {}: {}, {}: {}'.format(Mixdown_name,\n",
        "                                                            Mixdown_shape,\n",
        "                                                            Bass_name,\n",
        "                                                            Bass_shape,\n",
        "                                                            Drums_name,\n",
        "                                                            Drums_shape,\n",
        "                                                            Vocals_name,\n",
        "                                                            Vocals_shape,\n",
        "                                                            Other_name,\n",
        "                                                            Other_shape))\n",
        "      valid = False\n",
        "      \n",
        "      \n",
        "\n",
        "  if valid:\n",
        "    print('All Image Shapes Match')\n",
        "\n",
        "check_img_shapes(Mixdown_files,Bass_files,Drum_files,Vocal_files,Other_files)\n",
        "\n",
        "    \n",
        "                                            \n",
        "                                                     "
      ],
      "execution_count": 22,
      "outputs": [
        {
          "output_type": "stream",
          "text": [
            "Mixdown \t Bass \t Drums \t Vocals \t Others\n",
            "Mixdown \t Bass \t Drums \t Vocals \t Others\n",
            "All Image Shapes Match\n"
          ],
          "name": "stdout"
        }
      ]
    },
    {
      "cell_type": "code",
      "metadata": {
        "id": "KNBw2eGBkR_d",
        "colab": {
          "base_uri": "https://localhost:8080/",
          "height": 107
        },
        "outputId": "38890437-4ab0-4d33-94d1-bc664fda481e"
      },
      "source": [
        "def view_sample_imgs(Mixdown_files,Bass_files,Drum_files,Vocal_files,Other_files):\n",
        "  # View some of the images\n",
        "  #sample = np.random.randint(int(len(Mixdown_files)-1),size = 1)\n",
        "  sample = [0]\n",
        "  count = 1\n",
        "  images = []\n",
        "  print('Mixdown, Bass, Drum, Vocal, Other')\n",
        "\n",
        "\n",
        "  for val in sample:\n",
        "    plt.subplot(1,5,1)\n",
        "    Mixdown_image = tf.image.decode_png(tf.io.read_file(Mixdown_files[val]))\n",
        "    plt.imshow(Mixdown_image.numpy().squeeze(axis=2))\n",
        "    plt.axis('off')\n",
        "\n",
        "    plt.subplot(1,5,2)\n",
        "    Bass_image = tf.image.decode_png(tf.io.read_file(Bass_files[val]))\n",
        "    plt.imshow(Bass_image.numpy().squeeze(axis=2))\n",
        "    plt.axis('off')\n",
        "\n",
        "    plt.subplot(1,5,3)\n",
        "    Drum_image = tf.image.decode_png(tf.io.read_file(Drum_files[val]))\n",
        "    plt.imshow(Drum_image.numpy().squeeze(axis=2))\n",
        "    plt.axis('off')\n",
        "\n",
        "    plt.subplot(1,5,4)\n",
        "    Vocal_image = tf.image.decode_png(tf.io.read_file(Vocal_files[val]))\n",
        "    plt.imshow(Vocal_image.numpy().squeeze(axis=2))\n",
        "    plt.axis('off')\n",
        "\n",
        "    plt.subplot(1,5,5)\n",
        "    Other_image = tf.image.decode_png(tf.io.read_file(Other_files[val]))\n",
        "    plt.imshow(Other_image.numpy().squeeze(axis=2))\n",
        "    plt.axis('off')\n",
        "\n",
        "view_sample_imgs(Mixdown_files,Bass_files,Drum_files,Vocal_files,Other_files)\n",
        "  \n"
      ],
      "execution_count": 23,
      "outputs": [
        {
          "output_type": "stream",
          "text": [
            "Mixdown, Bass, Drum, Vocal, Other\n"
          ],
          "name": "stdout"
        },
        {
          "output_type": "display_data",
          "data": {
            "image/png": "[encoded data removed]",
            "text/plain": [
              "<Figure size 432x288 with 5 Axes>"
            ]
          },
          "metadata": {
            "tags": [],
            "needs_background": "light"
          }
        }
      ]
    },
    {
      "cell_type": "markdown",
      "metadata": {
        "id": "iXT8t9eckRIs"
      },
      "source": [
        "## View Images"
      ]
    },
    {
      "cell_type": "markdown",
      "metadata": {
        "id": "fs87WeHW0K7n"
      },
      "source": [
        "## Create TF Dataset"
      ]
    },
    {
      "cell_type": "code",
      "metadata": {
        "id": "3JyT6AfI0FL3"
      },
      "source": [
        "# Read files\n",
        "def decode_png_and_label(filename):\n",
        "  Mixdown_filename = filename[0]\n",
        "  Bass_filename = filename[1]\n",
        "  Drums_filename = filename[2]\n",
        "  Vocals_filename = filename[3]\n",
        "  Other_filename = filename[4]\n",
        "  \n",
        "  Mixdown_image = tf.image.decode_png(tf.io.read_file(Mixdown_filename))\n",
        "  Bass_image = tf.image.decode_png(tf.io.read_file(Bass_filename))\n",
        "  Drums_image = tf.image.decode_png(tf.io.read_file(Drums_filename))\n",
        "  Vocals_image = tf.image.decode_png(tf.io.read_file(Vocals_filename))\n",
        "  Other_image = tf.image.decode_png(tf.io.read_file(Other_filename))\n",
        "\n",
        "\n",
        "\n",
        "  return Mixdown_image, Bass_image, Drums_image, Vocals_image, Other_image\n",
        "\n",
        "# Collect LR and HR Patch filenames and add to dataset\n",
        "files = [val for pair in zip(Mixdown_files,Bass_files,Drum_files,Vocal_files,Other_files) for val in pair]\n",
        "files = np.reshape(files,(-1,5),order = 'C')\n",
        "\n",
        "AUTO = tf.data.experimental.AUTOTUNE\n",
        "dataset = tf.data.Dataset.from_tensor_slices(files)\n",
        "\n",
        "\n",
        "# Add Files to the TF Dataset\n",
        "dataset = dataset.map(decode_png_and_label,num_parallel_calls=AUTO)\n",
        "\n"
      ],
      "execution_count": 57,
      "outputs": []
    },
    {
      "cell_type": "markdown",
      "metadata": {
        "id": "BjaWTB3-NIW-"
      },
      "source": [
        "## Define Patch Shape\n",
        "- **Strides**: Center to center distance between patches"
      ]
    },
    {
      "cell_type": "code",
      "metadata": {
        "id": "A1ewAiUIDtVQ"
      },
      "source": [
        "patch_shape = [500,500]\n",
        "strides = [500,500]"
      ],
      "execution_count": 50,
      "outputs": []
    },
    {
      "cell_type": "markdown",
      "metadata": {
        "id": "pL5d_XB5NUD6"
      },
      "source": [
        "## Patch Images"
      ]
    },
    {
      "cell_type": "code",
      "metadata": {
        "id": "J7V2Uqq9OiLX"
      },
      "source": [
        "def patch_images(Mixdown,Bass,Drums,Vocals,Other):\n",
        " \n",
        "  track = lambda instrument: tf.reshape(tf.image.extract_patches(\n",
        "      images=tf.expand_dims(instrument, 0),\n",
        "      sizes=[1, patch_shape[0], patch_shape[1], 1],\n",
        "      strides=[1, strides[0], strides[1], 1],\n",
        "      rates=[1, 1, 1, 1],\n",
        "      padding='SAME'), \n",
        "      shape = [-1,patch_shape[0],patch_shape[1],1])\n",
        "  \n",
        "  \n",
        "  \n",
        "   \n",
        "\n",
        "\n",
        "  return track(Mixdown), track(Bass), track(Drums), track(Vocals), track(Other)\n",
        "dataset2 = dataset.map(patch_images)\n"
      ],
      "execution_count": 76,
      "outputs": []
    },
    {
      "cell_type": "markdown",
      "metadata": {
        "id": "UJU81eXPAV7N"
      },
      "source": [
        "## Confrim Dataset"
      ]
    },
    {
      "cell_type": "code",
      "metadata": {
        "id": "z4kFPkE2AZFz",
        "colab": {
          "base_uri": "https://localhost:8080/",
          "height": 269
        },
        "outputId": "fdc156cd-7829-4d8c-8753-eec45d91bcab"
      },
      "source": [
        "# Confirm Labels\n",
        "for (Mixdown_image,_,_,_,_) in dataset2.take(1):\n",
        "  print('Number of patches per image: {}'.format(np.shape(Mixdown_image)[0]))\n",
        "  plt.figure()\n",
        "  plt.imshow((Mixdown_image[0,:,:,:]).numpy().squeeze(axis=2),cmap='gray') \n",
        "  plt.xticks([])\n",
        "  plt.yticks([])\n",
        "  \n",
        "  \n",
        "  \n",
        "  "
      ],
      "execution_count": 67,
      "outputs": [
        {
          "output_type": "stream",
          "text": [
            "Number of patches per image: 4\n"
          ],
          "name": "stdout"
        },
        {
          "output_type": "display_data",
          "data": {
            "image/png": "[encoded data removed]",
            "text/plain": [
              "<Figure size 432x288 with 1 Axes>"
            ]
          },
          "metadata": {
            "tags": []
          }
        }
      ]
    },
    {
      "cell_type": "markdown",
      "metadata": {
        "id": "JlyfgkaATHkT"
      },
      "source": [
        "## Get Image Shape\n",
        "Returns the shape of the Spectrogram. Used in the TFRecord filename."
      ]
    },
    {
      "cell_type": "code",
      "metadata": {
        "id": "sPjv5nAhJnOX",
        "colab": {
          "base_uri": "https://localhost:8080/"
        },
        "outputId": "6882567f-dee0-49de-9cc8-1296e2f9b7ba"
      },
      "source": [
        "def get_shape(dataset):\n",
        "  for (Mixdown,_,_,_,_) in dataset2.take(1):\n",
        "    image_shape = np.shape((Mixdown[0]))\n",
        "\n",
        "    return image_shape.as_list()\n",
        "\n",
        "image_shape = get_shape(dataset)\n",
        "print('Image Shape: {}'.format(image_shape))"
      ],
      "execution_count": 70,
      "outputs": [
        {
          "output_type": "stream",
          "text": [
            "Image Shape: [500, 500, 1]\n"
          ],
          "name": "stdout"
        }
      ]
    },
    {
      "cell_type": "markdown",
      "metadata": {
        "id": "HVM37tO1lu5x"
      },
      "source": [
        "## TF Record Config."
      ]
    },
    {
      "cell_type": "code",
      "metadata": {
        "colab": {
          "base_uri": "https://localhost:8080/"
        },
        "id": "okyL9QaUluRv",
        "outputId": "496a669d-71a9-486a-de9f-53c15ec16f9b"
      },
      "source": [
        "GCS_OUTPUT = 'gs://super_res_train/TFRecords/edsr_data'\n",
        "\n",
        "#images per TF Record shard\n",
        "img_shard = 1\n",
        "identifier = 'test'\n",
        "num_shards = len(Mixdown_files)/img_shard\n",
        "if num_shards != np.floor(num_shards):\n",
        "  excess = len(LR_patches) % img_shard\n",
        "  num_shards = np.floor(num_shards)\n",
        "else:\n",
        "  excess = 0\n",
        "  \n",
        "print('Files: {}\\nExcess Images: {}'.format(num_shards,excess))\n",
        "\n",
        "# Shuffle and Batch Dataset\n",
        "dataset3 = dataset2.batch(img_shard, drop_remainder=False)"
      ],
      "execution_count": 71,
      "outputs": [
        {
          "output_type": "stream",
          "text": [
            "Files: 2.0\n",
            "Excess Images: 0\n"
          ],
          "name": "stdout"
        }
      ]
    },
    {
      "cell_type": "markdown",
      "metadata": {
        "id": "MW8lfh6C0Pvj"
      },
      "source": [
        "## Write dataset to a TF Record"
      ]
    },
    {
      "cell_type": "code",
      "metadata": {
        "colab": {
          "base_uri": "https://localhost:8080/"
        },
        "id": "llUOCgSmvh2f",
        "outputId": "f8b1c54b-f51a-44bb-d88a-4f75eddf3a9a"
      },
      "source": [
        "# Writes TFDataset to a TF Record\n",
        "def writeTFRecord(writer,Mixdown,Bass,Drums,Vocals,Other):\n",
        "  example = tf.train.Example(features=tf.train.Features(feature={\n",
        "        'Mixdown': tf.train.Feature(bytes_list=tf.train.BytesList(value=[Mixdown])),\n",
        "        'Bass': tf.train.Feature(bytes_list=tf.train.BytesList(value=[Bass])),\n",
        "        'Drums': tf.train.Feature(bytes_list=tf.train.BytesList(value=[Drums])),\n",
        "        'Vocals': tf.train.Feature(bytes_list=tf.train.BytesList(value=[Vocals])),\n",
        "        'Other': tf.train.Feature(bytes_list=tf.train.BytesList(value=[Other])),\n",
        "    \n",
        "        \n",
        "        \n",
        "    }))\n",
        "  \n",
        "  return example\n",
        "\n",
        "\n",
        "#Write TF Records\n",
        "options = tf.io.TFRecordOptions(compression_type = 'ZLIB',\n",
        "                                compression_level = 9)\n",
        "                                \n",
        "for shard,(Mixdown,Bass,Drums,Vocals,Other) in enumerate(dataset2):\n",
        "  shard_size = Mixdown.numpy().shape[0]\n",
        "  filename = os.path.join(GCS_OUTPUT, '{:02d}_W{}H{}N{}_{}Images.tfrec'.format(shard,\n",
        "                                                                               image_shape[0],\n",
        "                                                                               image_shape[1],\n",
        "                                                                               shard_size,\n",
        "                                                                               identifier))\n",
        "  with tf.io.TFRecordWriter(filename, options = options) as out_file:\n",
        "    for i in range(shard_size):\n",
        "      example = writeTFRecord(out_file,\n",
        "                              tf.io.encode_png(Mixdown[i]).numpy(),\n",
        "                              tf.io.encode_png(Bass[i]).numpy(),\n",
        "                              tf.io.encode_png(Drums[i]).numpy(),\n",
        "                              tf.io.encode_png(Vocals[i]).numpy(),\n",
        "                              tf.io.encode_png(Other[i]).numpy())\n",
        "      out_file.write(example.SerializeToString())\n",
        "    print('Completed: {}/{} Wrote File: {}'.format(shard+1,int(num_shards),filename))\n",
        "  \n",
        "  \n"
      ],
      "execution_count": 78,
      "outputs": [
        {
          "output_type": "stream",
          "text": [
            "Completed: 1/2 Wrote File: gs://super_res_train/TFRecords/edsr_data/00_W500H500N4_testImages.tfrec\n",
            "Completed: 2/2 Wrote File: gs://super_res_train/TFRecords/edsr_data/01_W500H500N4_testImages.tfrec\n"
          ],
          "name": "stdout"
        }
      ]
    },
    {
      "cell_type": "markdown",
      "metadata": {
        "id": "MfhzFIbg22UN"
      },
      "source": [
        "## Read the TFRecrods"
      ]
    },
    {
      "cell_type": "code",
      "metadata": {
        "colab": {
          "base_uri": "https://localhost:8080/"
        },
        "id": "vzJppQaT218P",
        "outputId": "210b94c7-a909-4125-c341-86412ae30961"
      },
      "source": [
        "# Select TFRrecord to read\n",
        "AUTO = tf.data.experimental.AUTOTUNE\n",
        "GCS_File = 'gs://super_res_train/TFRecords/edsr_data/00_W500H500N4_testImages.tfrec'\n",
        "img_shard = int(GCS_File[GCS_File.find('N')+1:GCS_File.rfind('_')])\n",
        "dataset3 = tf.data.TFRecordDataset(GCS_File,  compression_type='ZLIB',\n",
        "                                   num_parallel_reads=AUTO)\n",
        "nb_images = img_shard\n",
        "w = int(GCS_File[GCS_File.find('W')+1:GCS_File.rfind('H')])\n",
        "h = int(GCS_File[GCS_File.find('H')+1:GCS_File.rfind('N')])\n",
        "IMG_SHAPE = [w,h]\n",
        "NUM_CHANNELS = 1\n",
        "\n",
        "\n",
        "def read_tfrecord(example):\n",
        "# Create a dictionary describing the features.\n",
        "  features = {\n",
        "      'Mixdown': tf.io.FixedLenFeature([], tf.string),\n",
        "      'Bass': tf.io.FixedLenFeature([], tf.string),\n",
        "      'Drums': tf.io.FixedLenFeature([], tf.string),\n",
        "      'Vocals': tf.io.FixedLenFeature([], tf.string),\n",
        "      'Other': tf.io.FixedLenFeature([], tf.string)\n",
        "  }\n",
        "  \n",
        "  example = tf.io.parse_single_example(example, features)\n",
        "\n",
        "  Mixdown = tf.io.decode_png(example['Mixdown'])\n",
        "  Mixdown = tf.reshape(Mixdown, [IMG_SHAPE[0],IMG_SHAPE[1], NUM_CHANNELS])\n",
        "\n",
        "  Bass = tf.io.decode_png(example['Bass'])\n",
        "  Bass = tf.reshape(Bass, [IMG_SHAPE[0],IMG_SHAPE[1], NUM_CHANNELS])\n",
        "  \n",
        "  Drums = tf.io.decode_png(example['Drums'])\n",
        "  Drums = tf.reshape(Drums, [IMG_SHAPE[0],IMG_SHAPE[1], NUM_CHANNELS])\n",
        "\n",
        "  Vocals = tf.io.decode_png(example['Vocals'])\n",
        "  Vocals = tf.reshape(Vocals, [IMG_SHAPE[0],IMG_SHAPE[1], NUM_CHANNELS])\n",
        "\n",
        "  Other = tf.io.decode_png(example['Other'])\n",
        "  Other = tf.reshape(Other, [IMG_SHAPE[0],IMG_SHAPE[1], NUM_CHANNELS])\n",
        "  \n",
        "  return Mixdown,Bass,Drums,Vocals,Other\n",
        "\n",
        "dataset3 = dataset3.map(read_tfrecord)\n",
        "for (Mixdown,Bass,Drums,Vocals,Other) in dataset3.take(1):\n",
        "  print('Mixdown Shape: {}\\nBass Shape: {}\\nDrums Shape: {}\\nVocals Shape: {}\\nOthers Shape: {}\\n'.format(np.shape(Mixdown),\n",
        "                                                                                                          np.shape(Bass),\n",
        "                                                                                                          np.shape(Drums),\n",
        "                                                                                                          np.shape(Vocals),\n",
        "                                                                                                          np.shape(Other)))\n",
        "\n",
        "\n",
        "   \n",
        "   \n",
        "\n",
        "\n",
        "\n",
        "\n"
      ],
      "execution_count": 79,
      "outputs": [
        {
          "output_type": "stream",
          "text": [
            "Mixdown Shape: (500, 500, 1)\n",
            "Bass Shape: (500, 500, 1)\n",
            "Drums Shape: (500, 500, 1)\n",
            "Vocals Shape: (500, 500, 1)\n",
            "Others Shape: (500, 500, 1)\n",
            "\n"
          ],
          "name": "stdout"
        }
      ]
    },
    {
      "cell_type": "markdown",
      "metadata": {
        "id": "GSBM-YFUuyUv"
      },
      "source": [
        "## View TF Records"
      ]
    },
    {
      "cell_type": "code",
      "metadata": {
        "colab": {
          "base_uri": "https://localhost:8080/",
          "height": 532
        },
        "id": "k6G2fku4uyGO",
        "outputId": "a9542fec-5b05-4371-fdc2-7e9fe5a2d82e"
      },
      "source": [
        "plt.figure()\n",
        "for (Mixdown,Bass,Drums,Vocals,Other) in dataset3.take(1):\n",
        "  plt.imshow(Mixdown.numpy().squeeze(axis=2),cmap='gray')\n",
        "  plt.xticks([])\n",
        "  plt.yticks([])\n",
        "  plt.title('Mixdown')\n",
        "  plt.figure()\n",
        "  plt.subplots_adjust(wspace=.1, hspace=.5)\n",
        "  plt.subplot(2,2,1)\n",
        "  plt.imshow(Bass.numpy().squeeze(axis=2),cmap='gray')\n",
        "  plt.title('Bass')\n",
        "  plt.subplot(2,2,2)\n",
        "  plt.imshow(Drums.numpy().squeeze(axis=2),cmap='gray')\n",
        "  plt.title('Drums')\n",
        "  plt.subplot(2,2,3)\n",
        "  plt.imshow(Vocals.numpy().squeeze(axis=2),cmap='gray')\n",
        "  plt.title('Vocals')\n",
        "  plt.subplot(2,2,4)\n",
        "  plt.imshow(Other.numpy().squeeze(axis=2),cmap='gray')\n",
        "  plt.title('Other')\n",
        "  plt.xticks([])\n",
        "  plt.yticks([])"
      ],
      "execution_count": 86,
      "outputs": [
        {
          "output_type": "display_data",
          "data": {
            "image/png": "[encoded data removed]",
            "text/plain": [
              "<Figure size 432x288 with 1 Axes>"
            ]
          },
          "metadata": {
            "tags": []
          }
        },
        {
          "output_type": "display_data",
          "data": {
            "image/png": "[encoded data removed]",
            "text/plain": [
              "<Figure size 432x288 with 4 Axes>"
            ]
          },
          "metadata": {
            "tags": [],
            "needs_background": "light"
          }
        }
      ]
    }
  ]
}