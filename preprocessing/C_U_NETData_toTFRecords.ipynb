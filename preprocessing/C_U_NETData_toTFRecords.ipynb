{
  "nbformat": 4,
  "nbformat_minor": 0,
  "metadata": {
    "colab": {
      "name": "C-U-NETData_toTFRecords.ipynb",
      "provenance": [],
      "collapsed_sections": [],
      "toc_visible": true,
      "authorship_tag": "ABX9TyMKKx8hH/mgjGvFMP/dZ37H",
      "include_colab_link": true
    },
    "kernelspec": {
      "display_name": "Python 3",
      "name": "python3"
    }
  },
  "cells": [
    {
      "cell_type": "markdown",
      "metadata": {
        "id": "view-in-github",
        "colab_type": "text"
      },
      "source": [
        "<a href=\"https://colab.research.google.com/github/SamuelXJames/Auto-Music-Seperation/blob/main/preprocessing/C_U_NETData_toTFRecords.ipynb\" target=\"_parent\"><img src=\"https://colab.research.google.com/assets/colab-badge.svg\" alt=\"Open In Colab\"/></a>"
      ]
    },
    {
      "cell_type": "markdown",
      "metadata": {
        "id": "UIMUd7SVo65a"
      },
      "source": [
        "# Convert Images Into TFRecords\n",
        "\n",
        "This code converts spectrograms (or scalograms) stored as PNG images on Google Cloud Storage to TFRecords (as byte data). The dataset/TFRecords are **structured specfically for C-U-NET**"
      ]
    },
    {
      "cell_type": "markdown",
      "metadata": {
        "id": "vWeHOyqoptAu"
      },
      "source": [
        "## Connect to Google Cloud Storage (GCS)\n",
        "\n",
        "The images are stored on a GCS bucket. Alternatively, they can be stored locally or on Google Drive \n",
        "\n"
      ]
    },
    {
      "cell_type": "code",
      "metadata": {
        "id": "BSQ0NVhBXeAB"
      },
      "source": [
        "## IGNORE if storing kerenels locally or on Google Drive\n",
        "#Authenticare access to cloud storage\n",
        "!gcloud auth login\n",
        "\n",
        "#Set current GCS project\n",
        "!gcloud config set project superres000"
      ],
      "execution_count": null,
      "outputs": []
    },
    {
      "cell_type": "code",
      "metadata": {
        "id": "6TBbS4oiYkbg"
      },
      "source": [
        "## IGNORE if storing kerenels locally or on Google Drive\n",
        "#Setup google cloud sdk (seems to be necessary but could be redudant)\n",
        "from google.colab import auth\n",
        "auth.authenticate_user()"
      ],
      "execution_count": 2,
      "outputs": []
    },
    {
      "cell_type": "markdown",
      "metadata": {
        "id": "8uoZ4jMqzz4s"
      },
      "source": [
        "## Import Libraries "
      ]
    },
    {
      "cell_type": "code",
      "metadata": {
        "id": "31YlWsRjzq1L"
      },
      "source": [
        "import tensorflow as tf\n",
        "import tensorflow_datasets as tfds\n",
        "from matplotlib import pyplot as plt\n",
        "import numpy as np\n",
        "import os, sys, math, glob, ntpath, time, random\n",
        "from PIL import Image\n",
        "from datetime import timedelta\n",
        "from tqdm import tqdm\n"
      ],
      "execution_count": 15,
      "outputs": []
    },
    {
      "cell_type": "markdown",
      "metadata": {
        "id": "DJnjPdl8zMz3"
      },
      "source": [
        "## Collect Mixes and Stems\n",
        "\n",
        "Collects the filenames for all the stems and mixes"
      ]
    },
    {
      "cell_type": "code",
      "metadata": {
        "colab": {
          "base_uri": "https://localhost:8080/"
        },
        "id": "R_pgv5VRz-8_",
        "outputId": "529c7ce5-5139-4e67-b132-15dc134c6053"
      },
      "source": [
        "# Directories\n",
        "MIXDOWN_DIR = 'gs://super_res_train/Mixdown/'\n",
        "BASS_DIR = 'gs://super_res_train/Bass/'\n",
        "DRUM_DIR = 'gs://super_res_train/Drums/'\n",
        "VOCAL_DIR = 'gs://super_res_train/Vocals/'\n",
        "OTHER_DIR = 'gs://super_res_train/Other/'\n",
        "CLASSES = [b'Bass', b'Drums', b'Vocals', b'Other']\n",
        "img_format = '*.png'\n",
        "\n",
        "# Get Filenames\n",
        "Mixdown_files = tf.io.gfile.glob(MIXDOWN_DIR + img_format)\n",
        "Bass_files = tf.io.gfile.glob(BASS_DIR + img_format)\n",
        "Drum_files = tf.io.gfile.glob(DRUM_DIR + img_format)\n",
        "Vocal_files = tf.io.gfile.glob(VOCAL_DIR + img_format)\n",
        "Other_files = tf.io.gfile.glob(OTHER_DIR + img_format)\n",
        "\n",
        "\n",
        "# Number of Images\n",
        "num_Mixdown = len(Mixdown_files) \n",
        "num_Bass = len(Bass_files)\n",
        "num_Drum = len(Drum_files) \n",
        "num_Vocal = len(Vocal_files)\n",
        "num_Other = len(Other_files) \n",
        "\n",
        "print('Number of Mixdown Images {}'.format(num_Mixdown))\n",
        "print('Number of Bass Images {}'.format(num_Bass))\n",
        "print('Number of Drum Images {}'.format(num_Drum))\n",
        "print('Number of Vocal Images {}'.format(num_Vocal))\n",
        "print('Number of Other Images {}'.format(num_Other))\n"
      ],
      "execution_count": 4,
      "outputs": [
        {
          "output_type": "stream",
          "text": [
            "Number of Mixdown Images 2\n",
            "Number of Bass Images 2\n",
            "Number of Drum Images 2\n",
            "Number of Vocal Images 2\n",
            "Number of Other Images 2\n"
          ],
          "name": "stdout"
        }
      ]
    },
    {
      "cell_type": "markdown",
      "metadata": {
        "id": "McaCxe2YHT00"
      },
      "source": [
        "## Check Image Size\n",
        "Confirms that each image in a dataset entry (ie. each steam and mix) have the same shape.\n",
        "\n"
      ]
    },
    {
      "cell_type": "code",
      "metadata": {
        "colab": {
          "base_uri": "https://localhost:8080/"
        },
        "id": "Vy1bzu7yHdq3",
        "outputId": "0f5a4e55-f048-4a5b-cd93-02b7a84dd29c"
      },
      "source": [
        "def check_img_shapes(Mixdown_files,Bass_files,Drum_files,Vocal_files,Other_files):\n",
        "  valid = True\n",
        "  for (Mixdown_file,Bass_file,Drums_file,Vocals_file,Other_file) in zip(Mixdown_files,Bass_files,Drum_files,Vocal_files,Other_files):\n",
        "    Mixdown_shape = np.shape(tf.image.decode_png(tf.io.read_file(Mixdown_file)))\n",
        "    Bass_shape = np.shape(tf.image.decode_png(tf.io.read_file(Bass_file)))\n",
        "    Drums_shape = np.shape(tf.image.decode_png(tf.io.read_file(Drums_file)))\n",
        "    Vocals_shape = np.shape(tf.image.decode_png(tf.io.read_file(Vocals_file)))\n",
        "    Other_shape = np.shape(tf.image.decode_png(tf.io.read_file(Other_file)))\n",
        "    print('Mixdown \\t Bass \\t Drums \\t Vocals \\t Others')\n",
        "    if not(Mixdown_shape == Bass_shape == Drums_shape == Vocals_shape == Other_shape):\n",
        "      _,Mixdown_name = ntpath.split(Mixdown_file)\n",
        "      _,Bass_name = ntpath.split(Bass_file)\n",
        "      _,Drums_name = ntpath.split(Drums_file)\n",
        "      _,Vocals_name = ntpath.split(Vocals_file)\n",
        "      _,Other_name = ntpath.split(Other_file)\n",
        "      print('{}: {}, {}: {}, {}: {}, {}: {}, {}: {}'.format(Mixdown_name,\n",
        "                                                            Mixdown_shape,\n",
        "                                                            Bass_name,\n",
        "                                                            Bass_shape,\n",
        "                                                            Drums_name,\n",
        "                                                            Drums_shape,\n",
        "                                                            Vocals_name,\n",
        "                                                            Vocals_shape,\n",
        "                                                            Other_name,\n",
        "                                                            Other_shape))\n",
        "      valid = False\n",
        "      \n",
        "      \n",
        "\n",
        "  if valid:\n",
        "    print('All Image Shapes Match')\n",
        "\n",
        "check_img_shapes(Mixdown_files,Bass_files,Drum_files,Vocal_files,Other_files)\n",
        "\n",
        "    \n",
        "                                            \n",
        "                                                     "
      ],
      "execution_count": 5,
      "outputs": [
        {
          "output_type": "stream",
          "text": [
            "Mixdown \t Bass \t Drums \t Vocals \t Others\n",
            "Mixdown \t Bass \t Drums \t Vocals \t Others\n",
            "All Image Shapes Match\n"
          ],
          "name": "stdout"
        }
      ]
    },
    {
      "cell_type": "markdown",
      "metadata": {
        "id": "iXT8t9eckRIs"
      },
      "source": [
        "## View Images"
      ]
    },
    {
      "cell_type": "code",
      "metadata": {
        "id": "KNBw2eGBkR_d",
        "colab": {
          "base_uri": "https://localhost:8080/",
          "height": 107
        },
        "outputId": "a9ba9f1f-2c8c-43e3-a4b1-02a5c8524a7a"
      },
      "source": [
        "def view_sample_imgs(Mixdown_files,Bass_files,Drum_files,Vocal_files,Other_files):\n",
        "  # View some of the images\n",
        "  #sample = np.random.randint(int(len(Mixdown_files)-1),size = 1)\n",
        "  sample = [0]\n",
        "  count = 1\n",
        "  images = []\n",
        "  print('Mixdown, Bass, Drum, Vocal, Other')\n",
        "\n",
        "\n",
        "  for val in sample:\n",
        "    plt.subplot(1,5,1)\n",
        "    Mixdown_image = tf.image.decode_png(tf.io.read_file(Mixdown_files[val]))\n",
        "    plt.imshow(Mixdown_image.numpy().squeeze(axis=2))\n",
        "    plt.axis('off')\n",
        "\n",
        "    plt.subplot(1,5,2)\n",
        "    Bass_image = tf.image.decode_png(tf.io.read_file(Bass_files[val]))\n",
        "    plt.imshow(Bass_image.numpy().squeeze(axis=2))\n",
        "    plt.axis('off')\n",
        "\n",
        "    plt.subplot(1,5,3)\n",
        "    Drum_image = tf.image.decode_png(tf.io.read_file(Drum_files[val]))\n",
        "    plt.imshow(Drum_image.numpy().squeeze(axis=2))\n",
        "    plt.axis('off')\n",
        "\n",
        "    plt.subplot(1,5,4)\n",
        "    Vocal_image = tf.image.decode_png(tf.io.read_file(Vocal_files[val]))\n",
        "    plt.imshow(Vocal_image.numpy().squeeze(axis=2))\n",
        "    plt.axis('off')\n",
        "\n",
        "    plt.subplot(1,5,5)\n",
        "    Other_image = tf.image.decode_png(tf.io.read_file(Other_files[val]))\n",
        "    plt.imshow(Other_image.numpy().squeeze(axis=2))\n",
        "    plt.axis('off')\n",
        "\n",
        "view_sample_imgs(Mixdown_files,Bass_files,Drum_files,Vocal_files,Other_files)\n",
        "  \n"
      ],
      "execution_count": 6,
      "outputs": [
        {
          "output_type": "stream",
          "text": [
            "Mixdown, Bass, Drum, Vocal, Other\n"
          ],
          "name": "stdout"
        },
        {
          "output_type": "display_data",
          "data": {
            "image/png": "[encoded data removed]",
            "text/plain": [
              "<Figure size 432x288 with 5 Axes>"
            ]
          },
          "metadata": {
            "tags": [],
            "needs_background": "light"
          }
        }
      ]
    },
    {
      "cell_type": "markdown",
      "metadata": {
        "id": "fs87WeHW0K7n"
      },
      "source": [
        "## Create TF Dataset"
      ]
    },
    {
      "cell_type": "code",
      "metadata": {
        "id": "3JyT6AfI0FL3"
      },
      "source": [
        "# Read files\n",
        "def decode_png_and_label(filename):\n",
        "  Mixdown_filename = filename[0]\n",
        "  instrument_filename = filename[1]\n",
        "  label = filename[2]\n",
        "  \n",
        "  Mixdown_image = tf.io.read_file(Mixdown_filename)\n",
        "  instrument_image = tf.io.read_file(instrument_filename)\n",
        " \n",
        "  \n",
        "  return Mixdown_image, label, instrument_image\n",
        "\n",
        "\n",
        "\n",
        "\n",
        "# Bass Files\n",
        "num_repeats = np.shape(Mixdown_files)[0]\n",
        "files = [val for pair in zip(Mixdown_files,Bass_files,np.repeat(['Bass'],num_repeats)) for val in pair]\n",
        "Bass_list = np.reshape(files,(-1,3),order = 'C')\n",
        "\n",
        "# Drums Files\n",
        "files = [val for pair in zip(Mixdown_files,Drum_files,np.repeat(['Drums'],num_repeats)) for val in pair]\n",
        "Drum_list = np.reshape(files,(-1,3),order = 'C')\n",
        "\n",
        "# Vocals Files\n",
        "files = [val for pair in zip(Mixdown_files,Vocal_files,np.repeat(['Vocals'],num_repeats)) for val in pair]\n",
        "Vocals_list = np.reshape(files,(-1,3),order = 'C')\n",
        "\n",
        "# Other Files\n",
        "files = [val for pair in zip(Mixdown_files,Other_files,np.repeat(['Other'],num_repeats)) for val in pair]\n",
        "Other_list = np.reshape(files,(-1,3),order = 'C')\n",
        "\n",
        "# Complete List\n",
        "random_list = np.arange(num_repeats*4)\n",
        "np.random.shuffle(random_list)\n",
        "complete_list = np.concatenate((Bass_list,Drum_list,Vocals_list,Other_list))\n",
        "complete_list = complete_list[random_list] # Randomize\n",
        "\n",
        "\n",
        "# Dataset\n",
        "AUTO = tf.data.experimental.AUTOTUNE\n",
        "dataset = tf.data.Dataset.from_tensor_slices(complete_list)\n",
        "\n",
        "\n",
        "# Add Files to the TF Dataset\n",
        "dataset = dataset.map(decode_png_and_label,num_parallel_calls=AUTO)\n",
        "\n"
      ],
      "execution_count": 7,
      "outputs": []
    },
    {
      "cell_type": "markdown",
      "metadata": {
        "id": "UJU81eXPAV7N"
      },
      "source": [
        "## Confrim Dataset"
      ]
    },
    {
      "cell_type": "code",
      "metadata": {
        "id": "z4kFPkE2AZFz",
        "colab": {
          "base_uri": "https://localhost:8080/",
          "height": 252
        },
        "outputId": "81fe2546-e7a3-48cd-f3c7-a659121673c7"
      },
      "source": [
        "# Confirm Labels\n",
        "for (Mixdown_image,label,instrument_image) in dataset.take(1):\n",
        "  plt.figure()\n",
        "  plt.imshow(tf.image.decode_png(Mixdown_image).numpy().squeeze(axis=2),cmap='gray') \n",
        "  plt.xticks([])\n",
        "  plt.yticks([])\n",
        "  \n",
        "  \n",
        "  \n",
        "  "
      ],
      "execution_count": 9,
      "outputs": [
        {
          "output_type": "display_data",
          "data": {
            "image/png": "[encoded data removed]",
            "text/plain": [
              "<Figure size 432x288 with 1 Axes>"
            ]
          },
          "metadata": {
            "tags": []
          }
        }
      ]
    },
    {
      "cell_type": "markdown",
      "metadata": {
        "id": "JlyfgkaATHkT"
      },
      "source": [
        "## Get Image Shape\n",
        "Returns the shape of the Spectrogram. Used in the TFRecord filename."
      ]
    },
    {
      "cell_type": "code",
      "metadata": {
        "id": "sPjv5nAhJnOX",
        "colab": {
          "base_uri": "https://localhost:8080/"
        },
        "outputId": "1fe91cb8-e9fb-461a-f822-0aa1e53b0abf"
      },
      "source": [
        "def get_shape(dataset):\n",
        "  for (Mixdown,_,_) in dataset.take(1):\n",
        "    image_shape = np.shape(tf.image.decode_png(Mixdown))\n",
        "\n",
        "    return image_shape.as_list()\n",
        "\n",
        "image_shape = get_shape(dataset)\n",
        "print('Image Shape: {}'.format(image_shape))"
      ],
      "execution_count": 11,
      "outputs": [
        {
          "output_type": "stream",
          "text": [
            "Image Shape: [715, 715, 1]\n"
          ],
          "name": "stdout"
        }
      ]
    },
    {
      "cell_type": "markdown",
      "metadata": {
        "id": "HVM37tO1lu5x"
      },
      "source": [
        "## TF Record Config.\n",
        "- **GCS_OUTPUT**: Output folder to save TFRecrods\n",
        "- **img_shard**: Number of data entries in a single TFRecord\n",
        " - A single data entry consists of:\n",
        " - (Mixed Spectrogram, label, Instrument Spectrogram)\n",
        "- Try to get each TFRecord to be beteween 200 MB - 1 GB\n",
        "- **Files**: Number of TFRecords that will be generated\n",
        "- **Excess Images**: Number of data entries that will be placed in the last TFRecord\n",
        " - Because the number of data entries may not be evenly divisible by img_shard the last file will have a different number of data entries. That is OK.\n",
        " \n"
      ]
    },
    {
      "cell_type": "code",
      "metadata": {
        "colab": {
          "base_uri": "https://localhost:8080/"
        },
        "id": "okyL9QaUluRv",
        "outputId": "d04f2286-3c54-4dd7-dc94-6c4624bc22ca"
      },
      "source": [
        "GCS_OUTPUT = 'gs://super_res_train/TFRecords/'\n",
        "\n",
        "#images per TF Record shard\n",
        "img_shard = 8\n",
        "\n",
        "num_shards = len(Mixdown_files*4)/img_shard\n",
        "if num_shards != np.floor(num_shards):\n",
        "  excess = len(LR_patches) % img_shard\n",
        "  num_shards = np.floor(num_shards)\n",
        "else:\n",
        "  excess = 0\n",
        "  \n",
        "print('Files: {}\\nExcess Images: {}'.format(num_shards,excess))\n",
        "\n",
        "# Shuffle and Batch Dataset\n",
        "dataset2 = dataset.batch(img_shard, drop_remainder=False)"
      ],
      "execution_count": 13,
      "outputs": [
        {
          "output_type": "stream",
          "text": [
            "Files: 1.0\n",
            "Excess Images: 0\n"
          ],
          "name": "stdout"
        }
      ]
    },
    {
      "cell_type": "markdown",
      "metadata": {
        "id": "MW8lfh6C0Pvj"
      },
      "source": [
        "## Write dataset to a TF Record"
      ]
    },
    {
      "cell_type": "code",
      "metadata": {
        "colab": {
          "base_uri": "https://localhost:8080/"
        },
        "id": "llUOCgSmvh2f",
        "outputId": "424bca64-ffe8-424d-add8-f2a6fdac0bea"
      },
      "source": [
        "# Writes TFDataset to a TF Record\n",
        "def writeTFRecord(writer,Mixdown,label,Instrument):\n",
        "  class_num = np.argmax(np.array(CLASSES)==label) \n",
        "  one_hot_class = np.eye(len(CLASSES))[class_num]\n",
        "\n",
        "  example = tf.train.Example(features=tf.train.Features(feature={\n",
        "        'Mixdown': tf.train.Feature(bytes_list=tf.train.BytesList(value=[Mixdown])),\n",
        "        'Label': tf.train.Feature(float_list=tf.train.FloatList(value = one_hot_class.tolist())),\n",
        "        'Instrument': tf.train.Feature(bytes_list=tf.train.BytesList(value=[Instrument])),\n",
        "        \n",
        "    \n",
        "        \n",
        "        \n",
        "    }))\n",
        "  \n",
        "  return example\n",
        "\n",
        "\n",
        "#Write TF Records\n",
        "options = tf.io.TFRecordOptions(compression_type = 'ZLIB',\n",
        "                                compression_level = 9)\n",
        "\n",
        "                               \n",
        "for shard,(Mixdown,label,instrument) in enumerate(dataset2):\n",
        "  shard_size = Mixdown.numpy().shape[0]\n",
        "  filename = GCS_OUTPUT + '{:02d}_W{}H{}N{}_SRImages.tfrec'.format(shard,image_shape[0],image_shape[1],shard_size)\n",
        "  with tf.io.TFRecordWriter(filename, options = options) as out_file:\n",
        "    for i in range(shard_size):\n",
        "      example = writeTFRecord(out_file,\n",
        "                              Mixdown.numpy()[i],\n",
        "                              label.numpy()[i],\n",
        "                              instrument.numpy()[i])\n",
        "      out_file.write(example.SerializeToString())\n",
        "    print('Completed: {}/{} Wrote File: {}'.format(shard+1,int(num_shards),filename))\n",
        "\n",
        "    \n",
        "  \n",
        "  \n",
        "  \n"
      ],
      "execution_count": 35,
      "outputs": [
        {
          "output_type": "stream",
          "text": [
            "Completed: 1/1 Wrote File: gs://super_res_train/TFRecords/00_W715H715N8_SRImages.tfrec\n"
          ],
          "name": "stdout"
        }
      ]
    },
    {
      "cell_type": "markdown",
      "metadata": {
        "id": "MfhzFIbg22UN"
      },
      "source": [
        "## Read the TFRecrods"
      ]
    },
    {
      "cell_type": "code",
      "metadata": {
        "colab": {
          "base_uri": "https://localhost:8080/"
        },
        "id": "vzJppQaT218P",
        "outputId": "038fdea8-e555-4659-8eee-0f4d786c955b"
      },
      "source": [
        "# Select TFRrecord to read\n",
        "AUTO = tf.data.experimental.AUTOTUNE\n",
        "GCS_File = 'gs://super_res_train/TFRecords/00_W715H715N8_SRImages.tfrec'\n",
        "img_shard = int(GCS_File[GCS_File.find('N')+1:GCS_File.rfind('_')])\n",
        "dataset3 = tf.data.TFRecordDataset(GCS_File,  compression_type='ZLIB',\n",
        "                                   num_parallel_reads=AUTO)\n",
        "nb_images = img_shard\n",
        "w = int(GCS_File[GCS_File.find('W')+1:GCS_File.rfind('H')])\n",
        "h = int(GCS_File[GCS_File.find('H')+1:GCS_File.rfind('N')])\n",
        "IMG_SHAPE = [w,h]\n",
        "NUM_CHANNELS = 1\n",
        "\n",
        "\n",
        "def read_tfrecord(example):\n",
        "# Create a dictionary describing the features.\n",
        "  features = {\n",
        "      'Mixdown': tf.io.FixedLenFeature([], tf.string),\n",
        "      'Label': tf.io.VarLenFeature(tf.float32),\n",
        "      'Instrument': tf.io.FixedLenFeature([], tf.string)\n",
        "      \n",
        "  }\n",
        "  \n",
        "  example = tf.io.parse_single_example(example, features)\n",
        "\n",
        "  Mixdown = tf.io.decode_png(example['Mixdown'])\n",
        "  Mixdown = tf.reshape(Mixdown, [IMG_SHAPE[0],IMG_SHAPE[1], NUM_CHANNELS])\n",
        "  \n",
        "  Label = tf.sparse.to_dense(example['Label'])\n",
        "  Label = tf.reshape(Label,[4,1])\n",
        "\n",
        "  Instrument = tf.io.decode_png(example['Instrument'])\n",
        "  Instrument = tf.reshape(Instrument, [IMG_SHAPE[0],IMG_SHAPE[1], NUM_CHANNELS])\n",
        "  \n",
        "  return Mixdown,Label,Instrument\n",
        "\n",
        "dataset3 = dataset3.map(read_tfrecord)\n",
        "instruments = ['Bass','Drums','Vocals','Other']\n",
        "print('Instrument Track Names:')\n",
        "for (a,b,c) in dataset3.take(8):\n",
        "  print(instruments[int(np.where(b == 1)[0])])\n",
        "  \n",
        "   \n",
        "\n",
        "\n",
        "\n",
        "\n"
      ],
      "execution_count": 53,
      "outputs": [
        {
          "output_type": "stream",
          "text": [
            "Instrument Track Names:\n",
            "Bass\n",
            "Drums\n",
            "Bass\n",
            "Vocals\n",
            "Other\n",
            "Drums\n",
            "Vocals\n",
            "Other\n"
          ],
          "name": "stdout"
        }
      ]
    }
  ]
}
